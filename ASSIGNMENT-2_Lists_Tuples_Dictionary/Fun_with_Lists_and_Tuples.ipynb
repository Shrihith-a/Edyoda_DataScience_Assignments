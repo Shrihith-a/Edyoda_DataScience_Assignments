{
 "cells": [
  {
   "cell_type": "markdown",
   "metadata": {},
   "source": [
    "# **Fun with Lists and Tuples**"
   ]
  },
  {
   "cell_type": "markdown",
   "metadata": {},
   "source": [
    "#### **Write a Python program to get a list, sorted in increasing order by the last element in each tuple from a given list of non-empty tuples**\n",
    "\n",
    "\n",
    "\n",
    "- Sample List : [(2, 5), (1, 2), (4, 4), (2, 3), (2, 1)]\n",
    "\n",
    "- Expected Result : [(2, 1), (1, 2), (2, 3), (4, 4), (2, 5)]"
   ]
  },
  {
   "cell_type": "code",
   "execution_count": 46,
   "metadata": {},
   "outputs": [
    {
     "name": "stdout",
     "output_type": "stream",
     "text": [
      "Result output: [(2, 1), (1, 2), (2, 3), (4, 4), (2, 5)]\n"
     ]
    }
   ],
   "source": [
    "# list of non-empty tuples\n",
    "list_tuples= [(2, 5), (1, 2), (4, 4), (2, 3), (2, 1)]\n",
    "\n",
    "# nested for loop \n",
    "for i in range(1,len(list_tuples)):\n",
    "    for j in range(len(list_tuples)- i):\n",
    "        if list_tuples[j][1] > list_tuples[j+1][1]:\n",
    "            temp=list_tuples[j] #--->created temp varaible and stored list_tuples[j]\n",
    "            list_tuples [j] =list_tuples[j+1]\n",
    "            list_tuples [j+1] = temp\n",
    "print(\"Result output: \",end=\"\")\n",
    "\n",
    "print(list_tuples)"
   ]
  },
  {
   "cell_type": "code",
   "execution_count": null,
   "metadata": {},
   "outputs": [],
   "source": []
  }
 ],
 "metadata": {
  "interpreter": {
   "hash": "ac59ebe37160ed0dfa835113d9b8498d9f09ceb179beaac4002f036b9467c963"
  },
  "kernelspec": {
   "display_name": "Python 3.9.6 64-bit",
   "language": "python",
   "name": "python3"
  },
  "language_info": {
   "codemirror_mode": {
    "name": "ipython",
    "version": 3
   },
   "file_extension": ".py",
   "mimetype": "text/x-python",
   "name": "python",
   "nbconvert_exporter": "python",
   "pygments_lexer": "ipython3",
   "version": "3.9.6"
  },
  "orig_nbformat": 4
 },
 "nbformat": 4,
 "nbformat_minor": 2
}
