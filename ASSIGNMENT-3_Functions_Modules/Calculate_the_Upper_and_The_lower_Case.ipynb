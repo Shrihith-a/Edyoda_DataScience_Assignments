{
 "cells": [
  {
   "cell_type": "markdown",
   "metadata": {},
   "source": [
    "# **Calculate the Upper and The lower Case**"
   ]
  },
  {
   "cell_type": "markdown",
   "metadata": {},
   "source": [
    "##### **Write a Python function that accepts a string and calculate the number of upper case letters and lower case letters.**\n",
    "\n",
    "    1. Sample String : 'The quick Brow Fox'\n",
    "\n",
    "    2. Expected Output :\n",
    "\n",
    "    - No. of Upper case characters : 3\n",
    "\n",
    "    - No. of Lower case Characters : 12"
   ]
  },
  {
   "cell_type": "code",
   "execution_count": 5,
   "metadata": {},
   "outputs": [
    {
     "name": "stdout",
     "output_type": "stream",
     "text": [
      "Original String :  The quick Brow Fox\n",
      "No. of UPPER case characters :  3\n",
      "No. of lower case Characters :  12\n"
     ]
    }
   ],
   "source": [
    "# string_test is a function of variable string calling\n",
    "def string_test(string):\n",
    "    # creating dictionary key and value to variable d\n",
    "    d={\"UPPER_CASE\":0, \"lower_case\":0}\n",
    "    # for loop were x in string\n",
    "    for x in string:\n",
    "        # if loop were isupper function calling finding upper letter\n",
    "        if x.isupper():\n",
    "           d[\"UPPER_CASE\"]+=1\n",
    "        # elif loop ere islower function calling for finding lower letter\n",
    "        elif x.islower():\n",
    "           d[\"lower_case\"]+=1\n",
    "        else:\n",
    "           pass\n",
    "    print (\"Original String : \", string)\n",
    "    print (\"No. of UPPER case characters : \", d[\"UPPER_CASE\"])\n",
    "    print (\"No. of lower case Characters : \", d[\"lower_case\"])\n",
    "\n",
    "string_test('The quick Brow Fox')"
   ]
  },
  {
   "cell_type": "code",
   "execution_count": null,
   "metadata": {},
   "outputs": [],
   "source": []
  }
 ],
 "metadata": {
  "interpreter": {
   "hash": "ac59ebe37160ed0dfa835113d9b8498d9f09ceb179beaac4002f036b9467c963"
  },
  "kernelspec": {
   "display_name": "Python 3.9.6 64-bit",
   "language": "python",
   "name": "python3"
  },
  "language_info": {
   "codemirror_mode": {
    "name": "ipython",
    "version": 3
   },
   "file_extension": ".py",
   "mimetype": "text/x-python",
   "name": "python",
   "nbconvert_exporter": "python",
   "pygments_lexer": "ipython3",
   "version": "3.9.6"
  },
  "orig_nbformat": 4
 },
 "nbformat": 4,
 "nbformat_minor": 2
}
