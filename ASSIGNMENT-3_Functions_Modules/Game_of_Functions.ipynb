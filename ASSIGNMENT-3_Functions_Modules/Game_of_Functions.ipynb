{
 "cells": [
  {
   "cell_type": "markdown",
   "metadata": {},
   "source": [
    "# **Game of \"Functions\"**"
   ]
  },
  {
   "cell_type": "markdown",
   "metadata": {},
   "source": [
    "#### Write a Python function to sum all the numbers in a list.\n",
    "    1. Sample List : (8, 2, 3, 0, 7)\n",
    "    2. Expected Output : 20\n",
    "\n",
    "    a. Explanation:\n",
    "    b. Summation should like 8+2+3+0+7 = 20"
   ]
  },
  {
   "cell_type": "code",
   "execution_count": 5,
   "metadata": {},
   "outputs": [
    {
     "name": "stdout",
     "output_type": "stream",
     "text": [
      "The sum of all the numbers in a list are :  20\n"
     ]
    }
   ],
   "source": [
    "def sum(numbers):  #----> creating function sum(numbers)\n",
    "    total = 0   # ----> variable total = 0\n",
    "    for x in numbers: #----> for loop were x in numbers\n",
    "        total += x  #---> total +=x  i.e [8+2+3+0+7]---4 iterations\n",
    "    return total #----> return vlue of total is 20\n",
    "print(\"The sum of all the numbers in a list are : \",sum((8, 2, 3, 0, 7)))\n",
    "\n"
   ]
  },
  {
   "cell_type": "code",
   "execution_count": null,
   "metadata": {},
   "outputs": [],
   "source": []
  }
 ],
 "metadata": {
  "interpreter": {
   "hash": "ac59ebe37160ed0dfa835113d9b8498d9f09ceb179beaac4002f036b9467c963"
  },
  "kernelspec": {
   "display_name": "Python 3.9.6 64-bit",
   "language": "python",
   "name": "python3"
  },
  "language_info": {
   "codemirror_mode": {
    "name": "ipython",
    "version": 3
   },
   "file_extension": ".py",
   "mimetype": "text/x-python",
   "name": "python",
   "nbconvert_exporter": "python",
   "pygments_lexer": "ipython3",
   "version": "3.9.6"
  },
  "orig_nbformat": 4
 },
 "nbformat": 4,
 "nbformat_minor": 2
}
