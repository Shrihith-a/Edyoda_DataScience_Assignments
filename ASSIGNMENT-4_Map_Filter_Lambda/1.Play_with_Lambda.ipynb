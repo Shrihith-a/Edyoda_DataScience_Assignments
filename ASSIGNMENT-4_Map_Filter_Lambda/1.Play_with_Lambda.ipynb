{
 "cells": [
  {
   "cell_type": "markdown",
   "metadata": {},
   "source": [
    "# Play with lambda"
   ]
  },
  {
   "cell_type": "markdown",
   "metadata": {},
   "source": [
    "#### Write a Python program to create a lambda function that adds 25 to a given number passed in as an argument.\n",
    "\n",
    "\n",
    "    - sample input: 10\n",
    "\n",
    "    - sample output: 35"
   ]
  },
  {
   "cell_type": "markdown",
   "metadata": {},
   "source": [
    "    1. way"
   ]
  },
  {
   "cell_type": "code",
   "execution_count": 49,
   "metadata": {},
   "outputs": [
    {
     "name": "stdout",
     "output_type": "stream",
     "text": [
      "using a normally defined function: 35\n",
      "using the lambda function:\n",
      "35\n"
     ]
    }
   ],
   "source": [
    "# using def keyword\n",
    "def adds(a):\n",
    "    a=10\n",
    "    return a+25\n",
    "#using a normally defined function\n",
    "print(\"using a normally defined function:\",end=' ')\n",
    "print(adds(10))\n",
    "\n",
    "# using lambda function \n",
    "addition = lambda a:a+25\n",
    "# using the lambda function\n",
    "print(\"using the lambda function:\")\n",
    "print(addition(10))"
   ]
  },
  {
   "cell_type": "code",
   "execution_count": 46,
   "metadata": {},
   "outputs": [
    {
     "name": "stdout",
     "output_type": "stream",
     "text": [
      "using the lambda function: 35\n"
     ]
    }
   ],
   "source": [
    "adds = lambda a : a + 25\n",
    "print(\"using the lambda function:\",end=' ')\n",
    "print(adds(10))"
   ]
  },
  {
   "cell_type": "markdown",
   "metadata": {},
   "source": [
    "    2.way"
   ]
  },
  {
   "cell_type": "code",
   "execution_count": 30,
   "metadata": {},
   "outputs": [
    {
     "name": "stdout",
     "output_type": "stream",
     "text": [
      "35\n"
     ]
    }
   ],
   "source": [
    "adds = lambda x,y: x + y\n",
    "print (adds (10,25 ))"
   ]
  },
  {
   "cell_type": "code",
   "execution_count": null,
   "metadata": {},
   "outputs": [],
   "source": []
  }
 ],
 "metadata": {
  "interpreter": {
   "hash": "ac59ebe37160ed0dfa835113d9b8498d9f09ceb179beaac4002f036b9467c963"
  },
  "kernelspec": {
   "display_name": "Python 3.9.6 64-bit",
   "language": "python",
   "name": "python3"
  },
  "language_info": {
   "codemirror_mode": {
    "name": "ipython",
    "version": 3
   },
   "file_extension": ".py",
   "mimetype": "text/x-python",
   "name": "python",
   "nbconvert_exporter": "python",
   "pygments_lexer": "ipython3",
   "version": "3.9.6"
  },
  "orig_nbformat": 4
 },
 "nbformat": 4,
 "nbformat_minor": 2
}
