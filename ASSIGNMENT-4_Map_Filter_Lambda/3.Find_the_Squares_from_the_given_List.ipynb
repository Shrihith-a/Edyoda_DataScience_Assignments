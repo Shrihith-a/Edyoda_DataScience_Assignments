{
 "cells": [
  {
   "cell_type": "markdown",
   "metadata": {},
   "source": [
    "# Find the Squares from the given List\n"
   ]
  },
  {
   "cell_type": "markdown",
   "metadata": {},
   "source": [
    "#### Write a Python program to square the elements of a list using map() function.\n",
    "\n",
    "\n",
    "\n",
    "    - Sample List: [4, 5, 2, 9]\n",
    "\n",
    "    - Square the elements of the list:\n",
    "\n",
    "    - [16, 25, 4, 81]\n",
    "\n"
   ]
  },
  {
   "cell_type": "markdown",
   "metadata": {},
   "source": [
    "    1.way"
   ]
  },
  {
   "cell_type": "code",
   "execution_count": 7,
   "metadata": {},
   "outputs": [
    {
     "name": "stdout",
     "output_type": "stream",
     "text": [
      "Square the elements of the list: \n",
      "[16, 25, 4, 81]\n"
     ]
    }
   ],
   "source": [
    "def square(n):\n",
    "    return n*n\n",
    "my_list = [4,5,2,9]\n",
    "updated_list = map(square, my_list)\n",
    "print(\"Square the elements of the list: \")\n",
    "print(list(updated_list))"
   ]
  },
  {
   "cell_type": "markdown",
   "metadata": {},
   "source": [
    "    2.way"
   ]
  },
  {
   "cell_type": "code",
   "execution_count": 11,
   "metadata": {},
   "outputs": [
    {
     "name": "stdout",
     "output_type": "stream",
     "text": [
      "Square the elements of the list: \n",
      "[16, 25, 4, 81]\n"
     ]
    }
   ],
   "source": [
    "numbers = [4,5,2,9]\n",
    "\n",
    "squaring = map(lambda n: n ** 2, numbers)\n",
    "squared_numbers = list(squaring)\n",
    "\n",
    "print(\"Square the elements of the list: \")\n",
    "print(squared_numbers)"
   ]
  },
  {
   "cell_type": "markdown",
   "metadata": {},
   "source": [
    "    3.way"
   ]
  },
  {
   "cell_type": "code",
   "execution_count": 18,
   "metadata": {},
   "outputs": [
    {
     "name": "stdout",
     "output_type": "stream",
     "text": [
      "Square the elements of the list: \n",
      "[16, 25, 4, 81]\n"
     ]
    }
   ],
   "source": [
    "lists = [4,5,2,9]\n",
    "print(\"Square the elements of the list: \")\n",
    "print(list(map(lambda x: x*x, lists ))) "
   ]
  },
  {
   "cell_type": "code",
   "execution_count": null,
   "metadata": {},
   "outputs": [],
   "source": []
  }
 ],
 "metadata": {
  "interpreter": {
   "hash": "ac59ebe37160ed0dfa835113d9b8498d9f09ceb179beaac4002f036b9467c963"
  },
  "kernelspec": {
   "display_name": "Python 3.9.6 64-bit",
   "language": "python",
   "name": "python3"
  },
  "language_info": {
   "codemirror_mode": {
    "name": "ipython",
    "version": 3
   },
   "file_extension": ".py",
   "mimetype": "text/x-python",
   "name": "python",
   "nbconvert_exporter": "python",
   "pygments_lexer": "ipython3",
   "version": "3.9.6"
  },
  "orig_nbformat": 4
 },
 "nbformat": 4,
 "nbformat_minor": 2
}
