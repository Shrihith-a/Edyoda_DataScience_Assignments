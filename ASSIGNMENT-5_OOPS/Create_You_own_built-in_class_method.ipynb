{
 "cells": [
  {
   "cell_type": "markdown",
   "metadata": {},
   "source": [
    "# Create You own built-in class method"
   ]
  },
  {
   "cell_type": "markdown",
   "metadata": {},
   "source": [
    "## Write a Python class to implement pow(x, n)\n",
    "\n",
    "\n",
    "\n",
    "    - Explanation:\n",
    "\n",
    "        - Use should be able to find the nth power of the x.(i.e x*x*x*x...n times)\n",
    "        - You must implement it using Class\n",
    "\n",
    "    - Sample Input:\n",
    "        - x: 10\n",
    "        - n: 2\n",
    "\n",
    "    - Sample Output:\n",
    "        - 100"
   ]
  },
  {
   "cell_type": "markdown",
   "metadata": {},
   "source": [
    "### Solution"
   ]
  },
  {
   "cell_type": "code",
   "execution_count": 1,
   "metadata": {},
   "outputs": [
    {
     "name": "stdout",
     "output_type": "stream",
     "text": [
      "input of x:  10\n",
      "input of n:  2\n",
      "Output of nth power for given input is: \n",
      "pow(x,n) value is : 100\n"
     ]
    }
   ],
   "source": [
    "# calling own class Power_nth_Times\n",
    "class Power_nth_Times:\n",
    "    # defining function requirement for power of nth term (x,n) \n",
    "    def power(self, x, n):\n",
    "        # if condition loop: if condition matches returns x\n",
    "        if x==0 or x==1 or n==1:\n",
    "            return x\n",
    "        # nested if loop condition if condition is true returns\n",
    "        if x==-1:\n",
    "           if n%2 ==0:\n",
    "                return 1\n",
    "           else:\n",
    "               return -1\n",
    "        #  if condition n==0 is Trues returns\n",
    "        if n==0:\n",
    "            return 1\n",
    "        # if condition n<0 is Trues returns \n",
    "        if n<0:\n",
    "           return 1/self.power(x,-n)\n",
    "        # vriable calling values inside implementing function power\n",
    "        values = self.power(x,n//2) # //:-floor division\n",
    "        # if condition loop trues returns values\n",
    "        if n%2 ==0:\n",
    "           return values*values\n",
    "        return values*values*x\n",
    "\n",
    "x=int(input(\"Base value: \"))\n",
    "print(\"input of x: \",x)\n",
    "\n",
    "n=int(input(\"Power value: \"))\n",
    "print(\"input of n: \",n)\n",
    "\n",
    "print(\"Output of nth power for given input is: \")\n",
    "print(\"pow(x,n) value is :\",Power_nth_Times().power(x,n))\n"
   ]
  },
  {
   "cell_type": "code",
   "execution_count": null,
   "metadata": {},
   "outputs": [],
   "source": []
  }
 ],
 "metadata": {
  "interpreter": {
   "hash": "11938c6bc6919ae2720b4d5011047913343b08a43b18698fd82dedb0d4417594"
  },
  "kernelspec": {
   "display_name": "Python 3.9.6 64-bit",
   "language": "python",
   "name": "python3"
  },
  "language_info": {
   "codemirror_mode": {
    "name": "ipython",
    "version": 3
   },
   "file_extension": ".py",
   "mimetype": "text/x-python",
   "name": "python",
   "nbconvert_exporter": "python",
   "pygments_lexer": "ipython3",
   "version": "3.9.6"
  },
  "orig_nbformat": 4
 },
 "nbformat": 4,
 "nbformat_minor": 2
}
