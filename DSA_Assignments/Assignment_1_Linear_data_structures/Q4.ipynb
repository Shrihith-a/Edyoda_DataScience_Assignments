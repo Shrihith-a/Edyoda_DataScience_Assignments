{
 "cells": [
  {
   "cell_type": "markdown",
   "metadata": {},
   "source": [
    "# ***Linear Data structures***"
   ]
  },
  {
   "cell_type": "markdown",
   "metadata": {},
   "source": [
    "#### ***Q4. Write a program to print the first non-repeated character from a string?***"
   ]
  },
  {
   "cell_type": "code",
   "execution_count": 39,
   "metadata": {},
   "outputs": [
    {
     "name": "stdout",
     "output_type": "stream",
     "text": [
      "First non-repeated character from given string is  p\n"
     ]
    }
   ],
   "source": [
    "# Python program to print the first non-repeated character from string\n",
    "# there are 256 ASCII characters. This includes standard ASCII characters(0-127) and Extended ASCII characters(128-255).\n",
    "import sys\n",
    "NO_OF_CHARS = 256\n",
    "\n",
    "# Defining function\n",
    "def firstNonRepeating(String):\n",
    "\n",
    "\tarr = [[] for i in range(NO_OF_CHARS)]\n",
    "\n",
    "\tfor i in range(NO_OF_CHARS):\n",
    "\t\tarr[i] = [0,0]\n",
    "\n",
    "\tfor i in range(len(String)):\n",
    "\t\tarr[ord(String[i])][0] += 1\n",
    "\t\tarr[ord(String[i])][1]= i\n",
    "\n",
    "\tres = sys.maxsize\n",
    "\n",
    "\tfor i in range(NO_OF_CHARS):\n",
    "\t\t# If this character occurs only once and appears before the current result, then update the result\n",
    "\t\tif (arr[i][0] == 1):\n",
    "\t\t\tres = min(res, arr[i][1])\n",
    "\n",
    "\t# if all characters are repeating then returns sys.maxsize\n",
    "\treturn res  \n",
    "\n",
    "# Drivers code to test the above function\n",
    "\n",
    "string = \"pythonforeverybody\"\n",
    "index = firstNonRepeating(string)\n",
    "if (index == sys.maxsize):\n",
    "\tprint(\"Either all characters from given string are repeating or string is empty\")\n",
    "else:\n",
    "\tprint(\"First non-repeated character from given string is \",string[index])"
   ]
  },
  {
   "cell_type": "markdown",
   "metadata": {},
   "source": [
    "##### Drivers code with input function\n"
   ]
  },
  {
   "cell_type": "code",
   "execution_count": 37,
   "metadata": {},
   "outputs": [
    {
     "name": "stdout",
     "output_type": "stream",
     "text": [
      "First non-repeated character from given string is  n\n"
     ]
    }
   ],
   "source": [
    "# Drivers code to test the above function\n",
    "\n",
    "string = input(\"Enter the string name to check first non- repeated character: \")\n",
    "index = firstNonRepeating(string)\n",
    "if (index == sys.maxsize):\n",
    "\tprint(\"Either all characters from given string are repeating or string is empty\")\n",
    "else:\n",
    "\tprint(\"First non-repeated character from given string is \",string[index])"
   ]
  },
  {
   "cell_type": "code",
   "execution_count": null,
   "metadata": {},
   "outputs": [],
   "source": []
  }
 ],
 "metadata": {
  "interpreter": {
   "hash": "11938c6bc6919ae2720b4d5011047913343b08a43b18698fd82dedb0d4417594"
  },
  "kernelspec": {
   "display_name": "Python 3.9.6 64-bit",
   "language": "python",
   "name": "python3"
  },
  "language_info": {
   "codemirror_mode": {
    "name": "ipython",
    "version": 3
   },
   "file_extension": ".py",
   "mimetype": "text/x-python",
   "name": "python",
   "nbconvert_exporter": "python",
   "pygments_lexer": "ipython3",
   "version": "3.9.6"
  },
  "orig_nbformat": 4
 },
 "nbformat": 4,
 "nbformat_minor": 2
}
