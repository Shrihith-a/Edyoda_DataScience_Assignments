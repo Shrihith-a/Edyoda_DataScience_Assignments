{
 "cells": [
  {
   "cell_type": "markdown",
   "metadata": {},
   "source": [
    "# ***Linear Data structures***"
   ]
  },
  {
   "cell_type": "markdown",
   "metadata": {},
   "source": [
    "#### ***Q2. Write a program to reverse an array in place? In place means you cannot create a new array. You have to update the original array***"
   ]
  },
  {
   "cell_type": "markdown",
   "metadata": {},
   "source": [
    "##### 1st way"
   ]
  },
  {
   "cell_type": "code",
   "execution_count": 7,
   "metadata": {},
   "outputs": [
    {
     "name": "stdout",
     "output_type": "stream",
     "text": [
      "List of array:  [0, 1, 2, 3, 4, 5, 6, 7, 8, 9]\n",
      "reversed array is: [9, 8, 7, 6, 5, 4, 3, 2, 1, 0]\n"
     ]
    }
   ],
   "source": [
    "#Python program to reverse an array\n",
    "# defining Function\n",
    "def reversearray(arr,start,end):\n",
    "    while start < end:\n",
    "        arr[start], arr[end] = arr[end], arr[start]\n",
    "        start += 1\n",
    "        end -= 1\n",
    "\n",
    "# Drivers code to test the above function\n",
    "arr = [0,1,2,3,4,5,6,7,8,9]\n",
    "print(\"List of array: \",arr)\n",
    "\n",
    "reversearray(arr,0,9)\n",
    "print(\"reversed array updated from orginal array is:\",end=\" \")\n",
    "print(arr)"
   ]
  },
  {
   "cell_type": "markdown",
   "metadata": {},
   "source": [
    "##### 2nd way\n",
    "##### With input function"
   ]
  },
  {
   "cell_type": "code",
   "execution_count": 8,
   "metadata": {},
   "outputs": [
    {
     "name": "stdout",
     "output_type": "stream",
     "text": [
      "List of array:  [0, 1, 2, 3, 4, 5, 6, 7, 8, 9]\n",
      "reversed array updated from orginal array is: [9, 8, 7, 6, 5, 4, 3, 2, 1, 0]\n"
     ]
    }
   ],
   "source": [
    "\n",
    "def reverseArray(arr):\n",
    "  print(arr [::-1])\n",
    "     \n",
    "# Driver function to test above function\n",
    "arr = [int(i) for i in input(\"Enter elements of a list separated by space: \").split()]\n",
    "print(\"List of array: \",arr)\n",
    "\n",
    "print(\"reversed array updated from orginal array is: \",end=\"\")\n",
    "reverseArray(arr) "
   ]
  },
  {
   "cell_type": "code",
   "execution_count": null,
   "metadata": {},
   "outputs": [],
   "source": []
  }
 ],
 "metadata": {
  "interpreter": {
   "hash": "11938c6bc6919ae2720b4d5011047913343b08a43b18698fd82dedb0d4417594"
  },
  "kernelspec": {
   "display_name": "Python 3.9.6 64-bit",
   "language": "python",
   "name": "python3"
  },
  "language_info": {
   "codemirror_mode": {
    "name": "ipython",
    "version": 3
   },
   "file_extension": ".py",
   "mimetype": "text/x-python",
   "name": "python",
   "nbconvert_exporter": "python",
   "pygments_lexer": "ipython3",
   "version": "3.9.6"
  },
  "orig_nbformat": 4
 },
 "nbformat": 4,
 "nbformat_minor": 2
}
