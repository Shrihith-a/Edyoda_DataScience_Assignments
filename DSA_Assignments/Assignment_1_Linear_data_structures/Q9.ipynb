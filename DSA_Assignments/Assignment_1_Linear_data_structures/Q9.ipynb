{
 "cells": [
  {
   "cell_type": "markdown",
   "metadata": {},
   "source": [
    "# ***Linear Data structures***"
   ]
  },
  {
   "cell_type": "markdown",
   "metadata": {},
   "source": [
    "### ***Q9. Write a program to reverse a stack***"
   ]
  },
  {
   "cell_type": "code",
   "execution_count": 13,
   "metadata": {},
   "outputs": [
    {
     "name": "stdout",
     "output_type": "stream",
     "text": [
      "string to be reversed : Edyoda\n",
      "Reversed string is : adoydE\n"
     ]
    }
   ],
   "source": [
    "class  reverse_a_stack:\n",
    "    # Creates  an  empty  stack.\n",
    "    def __init__(  self  ):\n",
    "        self.items  =  list()\n",
    "        self.size=-1\n",
    " \n",
    "    #Returns  True  if  the  stack  is  empty  or  False  otherwise.\n",
    "    def  isEmpty(  self  ):\n",
    "        if(self.size==-1):\n",
    "            return True\n",
    "        else:\n",
    "            return False\n",
    " \n",
    "    # Removes  and  returns  the  top  item  on  the  stack.\n",
    "    def  pop(  self  ):\n",
    "        if  self.isEmpty():\n",
    "            print(\"Stack is empty\")\n",
    "        else:\n",
    "            return self.items.pop()\n",
    "            self.size-=1\n",
    " \n",
    "    # Push  an  item  onto  the  top  of  the  stack.\n",
    "    def  push(  self,  item  ):\n",
    "        self.items.append(item)\n",
    "        self.size+=1\n",
    " \n",
    "    def reverse(self,string):\n",
    "        n = len(string)\n",
    " \n",
    " # Push all characters of string to stack\n",
    "        for i in range(0,n):\n",
    "            class_S.push(string[i])\n",
    " \n",
    " # Making the string empty since all characters are saved in stack\n",
    "        string=\"\"\n",
    " \n",
    " # Pop all characters of string and put them back to string\n",
    " \n",
    "        for i in range(0,n):\n",
    "            string+=class_S.pop()\n",
    "        return string\n",
    "        \n",
    "#Drivers Code\n",
    "class_S=reverse_a_stack()\n",
    "seq=input(\"Enter a string to be reversed\")\n",
    "print(\"string to be reversed : \" + seq)\n",
    "sequence = class_S.reverse(seq)\n",
    "print(\"Reversed string is : \" + sequence)"
   ]
  },
  {
   "cell_type": "code",
   "execution_count": null,
   "metadata": {},
   "outputs": [],
   "source": []
  }
 ],
 "metadata": {
  "interpreter": {
   "hash": "11938c6bc6919ae2720b4d5011047913343b08a43b18698fd82dedb0d4417594"
  },
  "kernelspec": {
   "display_name": "Python 3.9.6 64-bit",
   "language": "python",
   "name": "python3"
  },
  "language_info": {
   "codemirror_mode": {
    "name": "ipython",
    "version": 3
   },
   "file_extension": ".py",
   "mimetype": "text/x-python",
   "name": "python",
   "nbconvert_exporter": "python",
   "pygments_lexer": "ipython3",
   "version": "3.9.6"
  },
  "orig_nbformat": 4
 },
 "nbformat": 4,
 "nbformat_minor": 2
}
