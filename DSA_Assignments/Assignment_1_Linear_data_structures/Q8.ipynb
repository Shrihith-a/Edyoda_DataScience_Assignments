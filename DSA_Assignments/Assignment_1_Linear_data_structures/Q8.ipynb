{
 "cells": [
  {
   "cell_type": "markdown",
   "metadata": {},
   "source": [
    "# ***Linear Data structures***"
   ]
  },
  {
   "cell_type": "markdown",
   "metadata": {},
   "source": [
    "### ***Q8.Write a program to check if all the brackets are closed in a given code snippet?***"
   ]
  },
  {
   "cell_type": "code",
   "execution_count": 18,
   "metadata": {},
   "outputs": [
    {
     "name": "stdout",
     "output_type": "stream",
     "text": [
      "Entered Brackets :  {[()]}\n",
      "The given string is balanced closed brackets True\n"
     ]
    }
   ],
   "source": [
    "# Defining function\n",
    "def checkBalance(brackets):  \n",
    "    stack = []  \n",
    "    for char in brackets:  \n",
    "        if char in [\"(\", \"{\", \"[\"]:  \n",
    "            stack.append(char)  \n",
    "        else:  \n",
    "  \n",
    "            # Here we check if the current character is not opening bracket, then it must be closing.  \n",
    "            # So stack cannot be empty at this point.  \n",
    "            if not stack:  \n",
    "                return False  \n",
    "            curr_char = stack.pop()  \n",
    "            if curr_char == '(':  \n",
    "                if char != \")\":  \n",
    "                    return False  \n",
    "            if curr_char == '{':  \n",
    "                if char != \"}\":  \n",
    "                    return False  \n",
    "            if curr_char == '[':  \n",
    "                if char != \"]\":  \n",
    "                    return False  \n",
    "  \n",
    "    # Here we check empty stack  \n",
    "    if stack:  \n",
    "        return False  \n",
    "    return True  \n",
    "  \n",
    "\n",
    "# main function\n",
    "brackets = input(\"Enter the brackets to be tested : \") \n",
    "print(\"Entered Brackets : \",brackets)\n",
    "if checkBalance(brackets):  \n",
    "    print(\"The given string is balanced closed brackets\",True)  \n",
    "else:  \n",
    "    print(\"The given string is not balanced closed brackets\",False) "
   ]
  },
  {
   "cell_type": "code",
   "execution_count": null,
   "metadata": {},
   "outputs": [],
   "source": []
  }
 ],
 "metadata": {
  "interpreter": {
   "hash": "11938c6bc6919ae2720b4d5011047913343b08a43b18698fd82dedb0d4417594"
  },
  "kernelspec": {
   "display_name": "Python 3.9.6 64-bit",
   "language": "python",
   "name": "python3"
  },
  "language_info": {
   "codemirror_mode": {
    "name": "ipython",
    "version": 3
   },
   "file_extension": ".py",
   "mimetype": "text/x-python",
   "name": "python",
   "nbconvert_exporter": "python",
   "pygments_lexer": "ipython3",
   "version": "3.9.6"
  },
  "orig_nbformat": 4
 },
 "nbformat": 4,
 "nbformat_minor": 2
}
