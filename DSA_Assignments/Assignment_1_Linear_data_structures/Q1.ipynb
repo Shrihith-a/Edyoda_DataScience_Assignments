{
 "cells": [
  {
   "cell_type": "markdown",
   "metadata": {},
   "source": [
    "# ***Linear Data Structures***"
   ]
  },
  {
   "cell_type": "markdown",
   "metadata": {},
   "source": [
    "### **Q1. Write a program to find all pairs of an integer array whose sum is equal to a given number?**"
   ]
  },
  {
   "cell_type": "markdown",
   "metadata": {},
   "source": [
    "#### input - array of an integers\n",
    "#### output - Pairs of integer whoes sum will be equal to given number\n",
    "\n",
    "    - |5|4|2|2|3|  ---> ||7||\n",
    "    - 5+2 = 7\n",
    "    - 5+2 = 7\n",
    "    - 4+3 = 7\n"
   ]
  },
  {
   "cell_type": "code",
   "execution_count": 11,
   "metadata": {},
   "outputs": [
    {
     "name": "stdout",
     "output_type": "stream",
     "text": [
      "-1 7\n",
      "-2 8\n",
      "-3 9\n",
      "0 6\n",
      "1 5\n",
      "2 4\n"
     ]
    }
   ],
   "source": [
    "# defining function\n",
    "def PrintAllPairs(arr,n,sum):\n",
    "    for i in range(0,n):\n",
    "        for j in range(i+1,n):\n",
    "            if(arr[i]+arr[j] == sum):\n",
    "                print(arr[i],arr[j])\n",
    "\n",
    "\n",
    "#Driver code\n",
    "arr = [-3,-2,-1,0,1,2,3,4,5,6,7,8,9]\n",
    "n = len(arr)\n",
    "sum = 6\n",
    "PrintAllPairs(arr,n,sum)"
   ]
  },
  {
   "cell_type": "markdown",
   "metadata": {},
   "source": [
    "##### With input function"
   ]
  },
  {
   "cell_type": "code",
   "execution_count": 33,
   "metadata": {},
   "outputs": [
    {
     "name": "stdout",
     "output_type": "stream",
     "text": [
      "[-1, 5, 6, 4, 5, 2, 1, 3, -2, -3, -1]\n",
      "-1 6\n",
      "6 -1\n",
      "4 1\n",
      "2 3\n"
     ]
    }
   ],
   "source": [
    "# defining function\n",
    "def PrintAllPairs(arr,n,sum):\n",
    "    for i in range(0,n):\n",
    "        for j in range(i+1,n):\n",
    "            if(arr[i]+arr[j] == sum):\n",
    "                print(arr[i],arr[j])\n",
    "\n",
    "arr = [int(i) for i in input(\"Enter elements of a list separated by space: \").split()]\n",
    "print(arr)\n",
    "n = len(arr)\n",
    "sum = int(input(\"Enter the sum value to be equal:\"))\n",
    "PrintAllPairs(arr,n,sum)"
   ]
  },
  {
   "cell_type": "code",
   "execution_count": null,
   "metadata": {},
   "outputs": [],
   "source": []
  }
 ],
 "metadata": {
  "interpreter": {
   "hash": "11938c6bc6919ae2720b4d5011047913343b08a43b18698fd82dedb0d4417594"
  },
  "kernelspec": {
   "display_name": "Python 3.9.6 64-bit",
   "language": "python",
   "name": "python3"
  },
  "language_info": {
   "codemirror_mode": {
    "name": "ipython",
    "version": 3
   },
   "file_extension": ".py",
   "mimetype": "text/x-python",
   "name": "python",
   "nbconvert_exporter": "python",
   "pygments_lexer": "ipython3",
   "version": "3.9.6"
  },
  "orig_nbformat": 4
 },
 "nbformat": 4,
 "nbformat_minor": 2
}
