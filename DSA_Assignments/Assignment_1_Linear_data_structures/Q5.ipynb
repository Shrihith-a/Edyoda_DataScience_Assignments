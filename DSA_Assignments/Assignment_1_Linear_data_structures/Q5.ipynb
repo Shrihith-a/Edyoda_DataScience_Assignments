{
 "cells": [
  {
   "cell_type": "markdown",
   "metadata": {},
   "source": [
    "# ***Linear Data structures***"
   ]
  },
  {
   "cell_type": "markdown",
   "metadata": {},
   "source": [
    "### ***Q5. Read about the Tower of Hanoi algorithm. Write a program to implement it.***"
   ]
  },
  {
   "cell_type": "markdown",
   "metadata": {},
   "source": [
    "#### **Rules Of \"Tower of Hanoi\"**\n",
    "    - The rules of \"Tower of Hanoi\" are quite simple, but the solution is slightly hard.\n",
    "    - There are three rods. The disks are stacked in the descending order; the largest disk stacked at the bottom and the smallest one on top.\n",
    "    - The task is to transfer the disks from one source rod to another target rod.\n",
    "    - The following rule must not be violated\n",
    "        1. Only one disk can be moved at a time.\n",
    "        2. The most upper disk from one of the rod can be stimulated in move.\n",
    "        3. The smaller disk cannot be placed at the lower of the largest disk.\n",
    "    - The number of moves can be calculated as 2n - 1.\n",
    "\n",
    "    - Solution\n",
    "        - Suppose we have three disks on the first rod; we need total 7 moves from the above formula.\n",
    "        - The most left rod is called SOURCE, and the rightmost rod is called TARGET.\n",
    "        -  The middle rod is referred to as an AUX and The AUX is needed to deposit disks temporarily."
   ]
  },
  {
   "cell_type": "code",
   "execution_count": 8,
   "metadata": {},
   "outputs": [
    {
     "name": "stdout",
     "output_type": "stream",
     "text": [
      "Move Disk 1 From Rod A to Rod B.\n",
      "Move Disk 2 From Rod A to Rod C.\n",
      "Move Disk 1 From Rod B to Rod C.\n"
     ]
    }
   ],
   "source": [
    "# Defining function\n",
    "\n",
    "def Tower_Of_Hanoi(disks,source,aux,target):\n",
    "    if(disks == 1):\n",
    "        print('Move Disk 1 From Rod {} to Rod {}.'.format(source,target))\n",
    "        return  \n",
    "    # Function call itself here\n",
    "\n",
    "    Tower_Of_Hanoi(disks-1,source,target,aux)\n",
    "    print('Move Disk {} From Rod {} to Rod {}.'.format(disks,source,target))\n",
    "    Tower_Of_Hanoi(disks-1,aux,source,target)\n",
    "\n",
    "# Drivers code to test the above function\n",
    "disks = 2\n",
    "# Refering\n",
    "# Source as A\n",
    "# aux as B \n",
    "# target as C\n",
    "Tower_Of_Hanoi(disks,'A','B','C')\n"
   ]
  },
  {
   "cell_type": "markdown",
   "metadata": {},
   "source": [
    "##### Drivers code with input function\n"
   ]
  },
  {
   "cell_type": "code",
   "execution_count": 7,
   "metadata": {},
   "outputs": [
    {
     "name": "stdout",
     "output_type": "stream",
     "text": [
      "Move Disk 1 From Rod A to Rod B.\n",
      "Move Disk 2 From Rod A to Rod C.\n",
      "Move Disk 1 From Rod B to Rod C.\n",
      "Move Disk 3 From Rod A to Rod B.\n",
      "Move Disk 1 From Rod C to Rod A.\n",
      "Move Disk 2 From Rod C to Rod B.\n",
      "Move Disk 1 From Rod A to Rod B.\n",
      "Move Disk 4 From Rod A to Rod C.\n",
      "Move Disk 1 From Rod B to Rod C.\n",
      "Move Disk 2 From Rod B to Rod A.\n",
      "Move Disk 1 From Rod C to Rod A.\n",
      "Move Disk 3 From Rod B to Rod C.\n",
      "Move Disk 1 From Rod A to Rod B.\n",
      "Move Disk 2 From Rod A to Rod C.\n",
      "Move Disk 1 From Rod B to Rod C.\n"
     ]
    }
   ],
   "source": [
    "# Drivers code to test the above function\n",
    "disks = int(input(\"Enter the number of disks: \"))\n",
    "# Refering\n",
    "# Source as A\n",
    "# aux as B \n",
    "# target as C\n",
    "Tower_Of_Hanoi(disks,'A','B','C')"
   ]
  },
  {
   "cell_type": "code",
   "execution_count": null,
   "metadata": {},
   "outputs": [],
   "source": []
  }
 ],
 "metadata": {
  "interpreter": {
   "hash": "11938c6bc6919ae2720b4d5011047913343b08a43b18698fd82dedb0d4417594"
  },
  "kernelspec": {
   "display_name": "Python 3.9.6 64-bit",
   "language": "python",
   "name": "python3"
  },
  "language_info": {
   "codemirror_mode": {
    "name": "ipython",
    "version": 3
   },
   "file_extension": ".py",
   "mimetype": "text/x-python",
   "name": "python",
   "nbconvert_exporter": "python",
   "pygments_lexer": "ipython3",
   "version": "3.9.6"
  },
  "orig_nbformat": 4
 },
 "nbformat": 4,
 "nbformat_minor": 2
}
