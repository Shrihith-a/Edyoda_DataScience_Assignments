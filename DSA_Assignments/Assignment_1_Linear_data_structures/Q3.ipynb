{
 "cells": [
  {
   "cell_type": "markdown",
   "metadata": {},
   "source": [
    "# ***Linear Data structures***"
   ]
  },
  {
   "cell_type": "markdown",
   "metadata": {},
   "source": [
    "#### ***Q3. Write a program to check if two strings are a rotation of each other?***"
   ]
  },
  {
   "cell_type": "code",
   "execution_count": 3,
   "metadata": {},
   "outputs": [],
   "source": [
    "# Python program to check \n",
    "# if strings are rotations of each other or not\n",
    "\n",
    "# Defining function\n",
    "def RotationCheckStrings(string1,string2):\n",
    "    # calling variable for Checking size of the two strings\n",
    "    size1 = len(string1)\n",
    "    size2 = len(string2)\n",
    "    # callig variable temp for string\n",
    "    temp = ''\n",
    "\n",
    "    # Check if lengths of two strings are equal or not \n",
    "    if size1 != size2:\n",
    "        return 0\n",
    "\n",
    "    # concatenate the first string with itself\n",
    "    # storing concatenated string\n",
    "    temp = string1 + string1\n",
    "\n",
    "    if string2 in temp:\n",
    "        # returning true if 2nd string is present in concatenated string\n",
    "        return True \n",
    "    else: \n",
    "        return False\n",
    "\n",
    "# Drivers code to test the above function\n",
    "string1 = \"HELLO\"\n",
    "string2 = \"LOHEL\"\n",
    "\n",
    "if RotationCheckStrings(string1, string2):\n",
    "    print (\"Given Strings are rotations of each other\")\n",
    "    print(\"String1: \",string1,\"\\n\"\"String2: \",string2)\n",
    "else:\n",
    "    print (\"Given Strings are not rotations of each other\")\n",
    "    print(\"String1: \",string1,\"\\n\"\"String2: \",string2)\n"
   ]
  },
  {
   "cell_type": "markdown",
   "metadata": {},
   "source": [
    "##### Drivers code with input function"
   ]
  },
  {
   "cell_type": "code",
   "execution_count": 19,
   "metadata": {},
   "outputs": [
    {
     "name": "stdout",
     "output_type": "stream",
     "text": [
      "Given Strings are rotations of each other\n",
      "String1:  cdab \n",
      "String2:  abcd\n"
     ]
    }
   ],
   "source": [
    "# Drivers code to test the above function\n",
    "string1 = input(\"Enter the String1 Letters: \") #ex: abcd\n",
    "string2 = input(\"Enter the String2 Letters: \") #ex: cdab\n",
    "\n",
    "if RotationCheckStrings(string1, string2):\n",
    "    print (\"Given Strings are rotations of each other\")\n",
    "    print(\"String1: \",string1,\"\\n\"\"String2: \",string2)\n",
    "else:\n",
    "    print (\"Given Strings are not rotations of each other\")\n",
    "    print(\"String1: \",string1,\"\\n\"\"String2: \",string2)"
   ]
  },
  {
   "cell_type": "code",
   "execution_count": null,
   "metadata": {},
   "outputs": [],
   "source": []
  }
 ],
 "metadata": {
  "interpreter": {
   "hash": "11938c6bc6919ae2720b4d5011047913343b08a43b18698fd82dedb0d4417594"
  },
  "kernelspec": {
   "display_name": "Python 3.9.6 64-bit",
   "language": "python",
   "name": "python3"
  },
  "language_info": {
   "codemirror_mode": {
    "name": "ipython",
    "version": 3
   },
   "file_extension": ".py",
   "mimetype": "text/x-python",
   "name": "python",
   "nbconvert_exporter": "python",
   "pygments_lexer": "ipython3",
   "version": "3.9.6"
  },
  "orig_nbformat": 4
 },
 "nbformat": 4,
 "nbformat_minor": 2
}
