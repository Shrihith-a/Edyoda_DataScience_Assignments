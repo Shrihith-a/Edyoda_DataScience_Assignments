{
 "cells": [
  {
   "cell_type": "markdown",
   "metadata": {},
   "source": [
    "# **Lets Play With Fibonacc**"
   ]
  },
  {
   "cell_type": "markdown",
   "metadata": {},
   "source": [
    "### **Question1** Write a Python program to get the Fibonacci series between 0 to 50?\n",
    "\n",
    "\n",
    "- Note : The Fibonacci Sequence is the series of numbers : 0, 1, 1, 2, 3, 5, 8, 13, 21, ....\n",
    "\n",
    "- Every next number is found by adding up the two numbers before it.\n",
    "\n",
    "- Expected Output : 1 1 2 3 5 8 13 21 34 \n",
    "\n"
   ]
  },
  {
   "cell_type": "markdown",
   "metadata": {},
   "source": [
    "### **Using \"for\" loop, The Fibonacci series between 0 to 50** "
   ]
  },
  {
   "cell_type": "code",
   "execution_count": 2,
   "metadata": {},
   "outputs": [
    {
     "name": "stdout",
     "output_type": "stream",
     "text": [
      "The Fibonacci series between 0 to 50 are: [0, 1, 1, 2, 3, 5, 8, 13, 21, 34]\n"
     ]
    }
   ],
   "source": [
    "#fibonacci\n",
    "''' 1st = 0, 2nd = 1, 3rd = 1st + 2nd, 4th = 2nd + 3rd..... ::: FORMULA: (nth=(n-1)th+(n-2)th) '''\n",
    "#----->List of the object here 0,1 starts\n",
    "fibonacci = [0, 1] \n",
    "#----> range given  8 in such a way that it should end before 50.  ------>for loop starts\n",
    "for num in range(8):\n",
    "    # fibonacci[-2] = 0 and  fibonacci[-1] = 1 here so range will start with 0\n",
    "    num = fibonacci[-2] + fibonacci[-1]\n",
    "    #----> series of fibonacc appened num by 1 ------>for loop ends  \n",
    "    fibonacci.append(num) \n",
    "# print function to print the output of 0 to fibonacci series 0 to 50\n",
    "print(\"The Fibonacci series between 0 to 50 are:\",fibonacci)"
   ]
  },
  {
   "cell_type": "code",
   "execution_count": null,
   "metadata": {},
   "outputs": [],
   "source": [
    "# range(8) is taken to compecete adding previous number should end less than 50 addtion  next after 34+21 = 55 so series will stop at 34 here\n",
    "# so range is considered 8.here series is follows.\n",
    "'''\n",
    "[0, 1]\n",
    "[0, 1, 1]\n",
    "[0, 1, 1, 2]\n",
    "[0, 1, 1, 2, 3]\n",
    "[0, 1, 1, 2, 3, 5]\n",
    "[0, 1, 1, 2, 3, 5, 8]\n",
    "[0, 1, 1, 2, 3, 5, 8, 13]\n",
    "[0, 1, 1, 2, 3, 5, 8, 13, 21]\n",
    "[0, 1, 1, 2, 3, 5, 8, 13, 21, 34]\n",
    "'''"
   ]
  },
  {
   "cell_type": "markdown",
   "metadata": {},
   "source": [
    "### **Using \"while\" loop, The Fibonacci series between 0 to 50\"**"
   ]
  },
  {
   "cell_type": "code",
   "execution_count": 3,
   "metadata": {},
   "outputs": [
    {
     "name": "stdout",
     "output_type": "stream",
     "text": [
      "The Fibonacci series between 0 to 50 are: 1 1 2 3 5 8 13 21 34 "
     ]
    }
   ],
   "source": [
    "# using while loop\n",
    "#----> x input is taken 0 here\n",
    "x = 0 \n",
    "#----> y input is taken 1 here\n",
    "y = 1 \n",
    "print(\"The Fibonacci series between 0 to 50 are: \",end='')\n",
    "#while loop statement considering y <lessthan 50(1,2,......49)\n",
    "while (y<50) :  \n",
    "    #---> printing output of y and end function given to print output in single line\n",
    "    print(y,end=' ') \n",
    "    #---> this is th statement were addition of Fibonacci series take place upto less than 50 as condition given above.\n",
    "    (x,y) = (y,x+y)"
   ]
  },
  {
   "cell_type": "code",
   "execution_count": null,
   "metadata": {},
   "outputs": [],
   "source": []
  }
 ],
 "metadata": {
  "interpreter": {
   "hash": "ac59ebe37160ed0dfa835113d9b8498d9f09ceb179beaac4002f036b9467c963"
  },
  "kernelspec": {
   "display_name": "Python 3.9.6 64-bit",
   "language": "python",
   "name": "python3"
  },
  "language_info": {
   "codemirror_mode": {
    "name": "ipython",
    "version": 3
   },
   "file_extension": ".py",
   "mimetype": "text/x-python",
   "name": "python",
   "nbconvert_exporter": "python",
   "pygments_lexer": "ipython3",
   "version": "3.9.6"
  },
  "orig_nbformat": 4
 },
 "nbformat": 4,
 "nbformat_minor": 2
}
