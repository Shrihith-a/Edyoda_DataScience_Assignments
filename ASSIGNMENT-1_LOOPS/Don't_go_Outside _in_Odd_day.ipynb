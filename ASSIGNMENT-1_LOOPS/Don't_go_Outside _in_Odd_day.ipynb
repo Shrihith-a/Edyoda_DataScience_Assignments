{
 "cells": [
  {
   "cell_type": "markdown",
   "metadata": {},
   "source": [
    "# Don't go Outside in Odd day\n"
   ]
  },
  {
   "cell_type": "markdown",
   "metadata": {},
   "source": [
    "## **Write a Python program to count the number of even and odd numbers from a series of numbers.**\n",
    "\n",
    "\n",
    "\n",
    "- Sample numbers : numbers = (1, 2, 3, 4, 5, 6, 7, 8, 9) \n",
    "\n",
    "- Expected Output :\n",
    "\n",
    "    - Number of even numbers : 5\n",
    "\n",
    "    - Number of odd numbers : 4"
   ]
  },
  {
   "cell_type": "markdown",
   "metadata": {},
   "source": [
    "## **Python Program to Count Tuple Even and Odds using the for Loop.**\n"
   ]
  },
  {
   "cell_type": "code",
   "execution_count": 43,
   "metadata": {},
   "outputs": [
    {
     "name": "stdout",
     "output_type": "stream",
     "text": [
      "Even and odd: (1, 2, 3, 4, 5, 6, 7, 8, 9)\n",
      "Number of even numbers : 4\n",
      "Number of odd numbers : 5\n"
     ]
    }
   ],
   "source": [
    "\n",
    "# Declaring the tuple variable\n",
    "numbers = (1, 2, 3, 4, 5, 6, 7, 8, 9) \n",
    "print(\"Even and odd:\",numbers)\n",
    "\n",
    "#condition \n",
    "count_odd = 0\n",
    "count_even = 0\n",
    "# for loop generation\n",
    "for x in numbers:\n",
    "    # for even remainder is 0\n",
    "    if not (x % 2): \n",
    "        # if passed at next adding 1 and moves to print\n",
    "        count_even = count_even + 1\n",
    "    else:\n",
    "        # else passed at next adding 1 and moves to print\n",
    "    \tcount_odd = count_odd + 1\n",
    "# printing output declared inside for loop\n",
    "print(\"Number of even numbers :\", count_even)\n",
    "print(\"Number of odd numbers :\", count_odd)"
   ]
  },
  {
   "cell_type": "code",
   "execution_count": 40,
   "metadata": {},
   "outputs": [
    {
     "data": {
      "text/plain": [
       "0"
      ]
     },
     "execution_count": 40,
     "metadata": {},
     "output_type": "execute_result"
    }
   ],
   "source": [
    "0%2"
   ]
  },
  {
   "cell_type": "markdown",
   "metadata": {},
   "source": [
    "### **Python Program to Count Tuple Even and Odds using the for Loop and range .**\n"
   ]
  },
  {
   "cell_type": "code",
   "execution_count": 42,
   "metadata": {},
   "outputs": [
    {
     "name": "stdout",
     "output_type": "stream",
     "text": [
      "Even and odd: (1, 2, 3, 4, 5, 6, 7, 8, 9)\n",
      "The Count of even number in the numbers1 series:  4\n",
      "The Count of odd number in the numbers1 series:  5\n"
     ]
    }
   ],
   "source": [
    "\n",
    "# Declaring the tuple variable\n",
    "numbers1 = (1,2,3,4,5,6,7,8,9)\n",
    "print(\"Even and odd:\",numbers1)\n",
    "#condition \n",
    "even_numbers = 0\n",
    "odd_numbers = 0\n",
    "# for loop generation and in for loop it will find length of variables \n",
    "for i in range(len(numbers1)):\n",
    "    #creating if statement : for even remainder is 0\n",
    "    if(numbers1[i]%2==0):\n",
    "        even_numbers += 1 # even_numbers = even_numbers + 1 \n",
    "    else:\n",
    "        odd_numbers += 1 # odd_numbers = odd_numbers + 1 \n",
    "# Print output\n",
    "print(\"The Count of even number in the numbers1 series: \", even_numbers)\n",
    "print(\"The Count of odd number in the numbers1 series: \", odd_numbers)\n",
    "    \n"
   ]
  },
  {
   "cell_type": "markdown",
   "metadata": {},
   "source": [
    "## **Python Program to Count Tuple Even and Odds using the While Loop.**\n"
   ]
  },
  {
   "cell_type": "code",
   "execution_count": 46,
   "metadata": {},
   "outputs": [
    {
     "name": "stdout",
     "output_type": "stream",
     "text": [
      "Even and odd: (1, 2, 3, 4, 5, 6, 7, 8, 9)\n",
      "The Count of even number in the numbers2 series:  4\n",
      "The Count of odd number in the numbers2 series:  5\n"
     ]
    }
   ],
   "source": [
    "# Declaring the tuple variable\n",
    "numbers2 = (1,2,3,4,5,6,7,8,9)\n",
    "print(\"Even and odd:\",numbers2)\n",
    "#conditions\n",
    "even_count = 0\n",
    "odd_count = 0\n",
    "i = 0\n",
    "# While loop generation i is less than length of numbers2 will execute at first \n",
    "while(i < len(numbers2)): \n",
    "    if(numbers2[i]%2==0):\n",
    "        even_count = even_count + 1\n",
    "    else:\n",
    "        odd_count = odd_count + 1\n",
    "    i = i + 1\n",
    "#prints output of while loop\n",
    "print(\"The Count of even number in the numbers2 series: \", even_count)\n",
    "print(\"The Count of odd number in the numbers2 series: \", odd_count)"
   ]
  },
  {
   "cell_type": "code",
   "execution_count": null,
   "metadata": {},
   "outputs": [],
   "source": []
  }
 ],
 "metadata": {
  "interpreter": {
   "hash": "ac59ebe37160ed0dfa835113d9b8498d9f09ceb179beaac4002f036b9467c963"
  },
  "kernelspec": {
   "display_name": "Python 3.9.6 64-bit",
   "language": "python",
   "name": "python3"
  },
  "language_info": {
   "codemirror_mode": {
    "name": "ipython",
    "version": 3
   },
   "file_extension": ".py",
   "mimetype": "text/x-python",
   "name": "python",
   "nbconvert_exporter": "python",
   "pygments_lexer": "ipython3",
   "version": "3.9.6"
  },
  "orig_nbformat": 4
 },
 "nbformat": 4,
 "nbformat_minor": 2
}
