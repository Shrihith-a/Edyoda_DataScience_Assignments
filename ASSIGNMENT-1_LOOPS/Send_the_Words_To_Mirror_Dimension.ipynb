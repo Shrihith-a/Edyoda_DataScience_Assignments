{
 "cells": [
  {
   "cell_type": "markdown",
   "metadata": {},
   "source": [
    "# **Send the Words To Mirror Dimension**\n"
   ]
  },
  {
   "cell_type": "markdown",
   "metadata": {},
   "source": [
    "## Write a Python program that accepts a word from the user and reverse it.\n",
    "\n",
    "- Sample Test Case\n",
    "\n",
    "    - Input : Edyoda\n",
    "\n",
    "    - output: adoydE"
   ]
  },
  {
   "cell_type": "markdown",
   "metadata": {},
   "source": [
    "## **Using for loop with reversed function**"
   ]
  },
  {
   "cell_type": "code",
   "execution_count": 16,
   "metadata": {},
   "outputs": [
    {
     "name": "stdout",
     "output_type": "stream",
     "text": [
      "The inputed original string  is :  shri\n",
      "The reversed string of a word from user: irhs"
     ]
    }
   ],
   "source": [
    "#  input of string variable \n",
    "word1 = input()\n",
    "print (\"The inputed original string  is : \",word1)\n",
    "print(\"The reversed string of a word from user: \",end='')\n",
    "for i in reversed(word1):\n",
    "    print(i,end='')\n",
    "\n"
   ]
  },
  {
   "cell_type": "markdown",
   "metadata": {},
   "source": [
    "## **Using for loop with slicing**"
   ]
  },
  {
   "cell_type": "code",
   "execution_count": 15,
   "metadata": {},
   "outputs": [
    {
     "name": "stdout",
     "output_type": "stream",
     "text": [
      "The inputed original string  is :  shri\n",
      "The reversed string of a word from user: irhs"
     ]
    }
   ],
   "source": [
    "#  input of string variable \n",
    "word2 = input()\n",
    "print (\"The inputed original string  is : \",word2)\n",
    "print(\"The reversed string of a word from user: \",end='')\n",
    "for j in word2[::-1]:\n",
    "    print(j,end='')"
   ]
  },
  {
   "cell_type": "markdown",
   "metadata": {},
   "source": [
    "## **Using While loop  for reverse string**\n"
   ]
  },
  {
   "cell_type": "code",
   "execution_count": 14,
   "metadata": {},
   "outputs": [
    {
     "name": "stdout",
     "output_type": "stream",
     "text": [
      "The inputed original string  is :  shrihith\n",
      "The reversed string using a while loop is :  htihirhs\n"
     ]
    }
   ],
   "source": [
    "\n",
    "#  input of string variable   \n",
    "word3 = input()\n",
    "\n",
    "#Printing the inputed orginal sequence of variable word3 \n",
    "print (\"The inputed original string  is : \",word3)\n",
    "\n",
    "# creating empty string for variable reverse_string   \n",
    "reverse_String = \"\" \n",
    "\n",
    " # Find length of a inputed varaible string of word3 and save in count variable \n",
    "count = len(word3) \n",
    "while count > 0:   # while loop condition \n",
    "    # save the value of str[count-1] in reverseString\n",
    "    reverse_String += word3[ count - 1 ]\n",
    "    # decrement index   \n",
    "    count = count - 1   \n",
    "print (\"The reversed string using a while loop is : \",reverse_String)# reversed string  "
   ]
  },
  {
   "cell_type": "code",
   "execution_count": null,
   "metadata": {},
   "outputs": [],
   "source": []
  }
 ],
 "metadata": {
  "interpreter": {
   "hash": "ac59ebe37160ed0dfa835113d9b8498d9f09ceb179beaac4002f036b9467c963"
  },
  "kernelspec": {
   "display_name": "Python 3.9.6 64-bit",
   "language": "python",
   "name": "python3"
  },
  "language_info": {
   "codemirror_mode": {
    "name": "ipython",
    "version": 3
   },
   "file_extension": ".py",
   "mimetype": "text/x-python",
   "name": "python",
   "nbconvert_exporter": "python",
   "pygments_lexer": "ipython3",
   "version": "3.9.6"
  },
  "orig_nbformat": 4
 },
 "nbformat": 4,
 "nbformat_minor": 2
}
